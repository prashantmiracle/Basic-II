{
  "cells": [
    {
      "cell_type": "markdown",
      "metadata": {
        "id": "8WbUJEVzs8Bx"
      },
      "source": [
        "## <u>While doing this assignment only use those concepts which have been taught till now</u>"
      ]
    },
    {
      "cell_type": "markdown",
      "metadata": {
        "id": "77zLnpaNvNSp"
      },
      "source": [
        "# <u> Problem 1</u>\n",
        "\n",
        "### Create a class <code>Cylinder</code> which takes two attributes <code>radius</code> and <code>height</code>.\n",
        "\n",
        "### Create the following methods in this class:\n",
        "\n",
        "* ### method <code>volume()</code> which calculates the volume of the cyinder which is defined as $V  = \\pi r^2 h$\n",
        "\n",
        "* ### method <code>surface_area()</code> which calculates the area of the cyinder which is defined as $S  = 2\\pi r h$. Assume this is an open cylinder\n"
      ]
    },
    {
      "cell_type": "code",
      "execution_count": null,
      "metadata": {
        "id": "-cWkCZ5OzX0G"
      },
      "outputs": [],
      "source": [
        "# Write your code below. Take pi as 3.14\n",
        "class Cylinder:\n",
        "\n",
        "  def __init__(self,radius,height):\n",
        "    self.radius=radius\n",
        "    self.height=height\n",
        "\n",
        "  def volume(self):\n",
        "      self.V=3.14*self.radius**2*self.height\n",
        "      return self.V\n",
        "  def Surface_area(self):\n",
        "      self.S=2*3.14*self.radius*self.height\n",
        "      return self.S\n",
        "\n"
      ]
    },
    {
      "cell_type": "code",
      "execution_count": null,
      "metadata": {
        "colab": {
          "base_uri": "https://localhost:8080/"
        },
        "id": "tgS3mhN-18b_",
        "outputId": "47e5757c-021a-467b-d5f3-59344ff8e907"
      },
      "outputs": [
        {
          "name": "stdout",
          "output_type": "stream",
          "text": [
            "56.52\n",
            "37.68\n"
          ]
        }
      ],
      "source": [
        "# Check for sample inputs\n",
        "\n",
        "x=Cylinder(3,2)\n",
        "y=Cylinder(3,4)\n",
        "print(x.volume())\n",
        "print(x.Surface_area())\n",
        "  \n",
        "\n",
        "\n",
        "\n"
      ]
    },
    {
      "cell_type": "markdown",
      "metadata": {
        "id": "KjPWYK0Rs8By"
      },
      "source": [
        "## <u>Problem 2</u>\n",
        "\n",
        "### You started your own money wallet where your customers can create their accounts and they can either deposit or withdraw money from this wallet.\n",
        "\n",
        "### Write a Python class <code>BankAccount</code> which takes the balance as an attribute. You can initialize the balance with 0 because any new account will have 0 rupees in their wallet. Next write two methods for your class :\n",
        "\n",
        "* #### <code>withdraw()</code> method which takes the amount to be withdrawn as an argument and returns the balance after the withdrawal\n",
        "\n",
        "* #### <code>deposit()</code> method which takes the amount to be deposited as an argument and returns the balance after the deposit.\n",
        "\n",
        "### Keep in mind that if the balance to be withdrawn exceeds the current balance, it should display a message that \"Not enough balance in your account\"\n"
      ]
    },
    {
      "cell_type": "code",
      "execution_count": null,
      "metadata": {
        "id": "RxVZTrenzfHC"
      },
      "outputs": [],
      "source": [
        "# Write your BankAccount class below \n",
        "\n",
        "class BankAccount:\n",
        "\n",
        "    def __init__(self,balance=0):\n",
        "          self.balance=balance \n",
        "\n",
        "    def withdraw(self,withdrawal_amount):\n",
        "          self.withdrawal_amount=withdrawal_amount\n",
        "          if self.withdrawal_amount>self.balance:\n",
        "              print(\"Not enough balance in your account\")\n",
        "          else:\n",
        "              return self.balance-self.withdrawal_amount     \n",
        "\n",
        "    def deposit(self,deposit_amount):\n",
        "      self.deposit_amount=deposit_amount\n",
        "      return self.balance+self.deposit_amount\n",
        "        \n",
        "\n"
      ]
    },
    {
      "cell_type": "code",
      "execution_count": null,
      "metadata": {
        "id": "N1Yhpkiws8B3"
      },
      "outputs": [],
      "source": [
        "# Create two instances of this class for two customers\n",
        "\n",
        "x=BankAccount()\n",
        "y=BankAccount()"
      ]
    },
    {
      "cell_type": "markdown",
      "metadata": {
        "id": "mSTxPcO3fWeX"
      },
      "source": [
        "### Next add some amount and withdraw some another amount for both the customers."
      ]
    },
    {
      "cell_type": "code",
      "execution_count": null,
      "metadata": {
        "colab": {
          "base_uri": "https://localhost:8080/"
        },
        "id": "KpMdlB5Fs8B8",
        "outputId": "fcb9e5d2-9360-4c0e-c547-5f4ead1ec4ff"
      },
      "outputs": [
        {
          "name": "stdout",
          "output_type": "stream",
          "text": [
            "800\n",
            "9600\n"
          ]
        }
      ],
      "source": [
        "# Deposit some amount and withdrawing some amount from the two accounts and check if your method works fine\n",
        "#Customer 1\n",
        "x.balance=x.deposit(1200)\n",
        "x.balance=x.withdraw(400)\n",
        "print(x.balance)\n",
        "\n",
        "#Customer 2\n",
        "y.balance=y.deposit(10000)\n",
        "y.balance=y.withdraw(400)\n",
        "print(y.balance)\n"
      ]
    },
    {
      "cell_type": "markdown",
      "metadata": {
        "id": "5qd8g8UUs8CM"
      },
      "source": [
        "## <u>Problem 3 </u>\n",
        "\n",
        "### Create a class <code>Time </code> which takes two inputs hours and minutes to instantiate.\n",
        "*  #### Construct a method <code>DisplayTime()</code> which displays the time in AM/PM formats. For example if the input is 14 hours and 45 mins, then this method will print \"The time is 2:45 PM\". If the inputted hours exceeds 23 then print the message \"The input hours should be less than 24\" and if the inputted minutes exceeds 59 then print the message \"The input minutes should be less than 60.\" Also if the input is 12 hours 30 minutes, then the displayed time would be 12:30 PM\n",
        "* #### Construct a method <code>DisplayRatio()</code> which should display the ratio of minutes to hours. For example, (8 hours and  16 mins) should display 2. Use <code>try</code>, <code>except</code> block to account for ZeroDivisionError."
      ]
    },
    {
      "cell_type": "code",
      "execution_count": null,
      "metadata": {
        "id": "FBJy9Sq_s8CN"
      },
      "outputs": [],
      "source": [
        "class Time:\n",
        "\n",
        "    def __init__(self,hours,minutes):\n",
        "      self.hours=hours\n",
        "      self.minutes=minutes\n",
        "\n",
        "    def DisplayTime(self):\n",
        "      if self.hours>24: \n",
        "        print(\"The input hours should be less than 24\")\n",
        "      elif self.minutes>59:\n",
        "        print(\"The input minutes should be less than 60\")\n",
        "      else:\n",
        "        if self.hours>12:\n",
        "          self.hours=self.hours-12\n",
        "          print(f\"Time = {self.hours}:{self.minutes} PM\")\n",
        "        elif self.hours==12 and self.minutes>0:\n",
        "          print(f\"Time = {self.hours}:{self.minutes} PM\")\n",
        "        elif self.hours<1: \n",
        "          print(\"Please enter correct Hours\")\n",
        "        else:\n",
        "          print(f\"Time = {self.hours}:{self.minutes} AM\")\n",
        "\n",
        "    def DisplayRatio(self):\n",
        "          try:\n",
        "            self.R_m_h=self.minutes/self.hours\n",
        "            print(self.R_m_h)\n",
        "          except:\n",
        "            print(\"wrong input\")\n"
      ]
    },
    {
      "cell_type": "code",
      "execution_count": null,
      "metadata": {
        "colab": {
          "base_uri": "https://localhost:8080/"
        },
        "id": "zywXa51d6Eev",
        "outputId": "0600d2e5-576a-45a5-9bdd-3ce38528e1fa"
      },
      "outputs": [
        {
          "name": "stdout",
          "output_type": "stream",
          "text": [
            "Time = 11:45 PM\n",
            "The input hours should be less than 24\n",
            "Time = 12:34 PM\n",
            "The input minutes should be less than 60\n",
            "Time = 7:20 PM\n",
            "Time = 2:15 AM\n",
            "Please enter correct Hours\n",
            "1.9565217391304348\n",
            "1.4705882352941178\n",
            "2.8333333333333335\n",
            "4.785714285714286\n",
            "1.0526315789473684\n",
            "7.5\n",
            "wrong input\n"
          ]
        }
      ],
      "source": [
        "# Check for few sample inputs of hours and mins\n",
        "hour_min_list = [(23,45), (34,50), (12,34), (14,67),(19,20), (2,15), (0, 10)]\n",
        "\n",
        "# Using a for loop display the corresponding 12 hour time format for the above hour_min_list\n",
        "\n",
        "for i in hour_min_list:\n",
        "\n",
        "    x=Time(i[0],i[1])\n",
        "    x.DisplayTime()\n",
        "\n",
        "# Also display the corresponding ratios for the above list\n",
        "for i in hour_min_list:\n",
        "    x=Time(i[0],i[1])\n",
        "    x.DisplayRatio()\n"
      ]
    },
    {
      "cell_type": "code",
      "execution_count": null,
      "metadata": {
        "id": "mgcu1_SAjAqF"
      },
      "outputs": [],
      "source": []
    }
  ],
  "metadata": {
    "colab": {
      "provenance": []
    },
    "kernelspec": {
      "display_name": "Python 3.9.14 64-bit",
      "language": "python",
      "name": "python3"
    },
    "language_info": {
      "codemirror_mode": {
        "name": "ipython",
        "version": 3
      },
      "file_extension": ".py",
      "mimetype": "text/x-python",
      "name": "python",
      "nbconvert_exporter": "python",
      "pygments_lexer": "ipython3",
      "version": "3.9.14"
    },
    "vscode": {
      "interpreter": {
        "hash": "397704579725e15f5c7cb49fe5f0341eb7531c82d19f2c29d197e8b64ab5776b"
      }
    }
  },
  "nbformat": 4,
  "nbformat_minor": 0
}
