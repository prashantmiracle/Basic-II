{
  "nbformat": 4,
  "nbformat_minor": 0,
  "metadata": {
    "kernelspec": {
      "display_name": "Python 3",
      "language": "python",
      "name": "python3"
    },
    "language_info": {
      "codemirror_mode": {
        "name": "ipython",
        "version": 3
      },
      "file_extension": ".py",
      "mimetype": "text/x-python",
      "name": "python",
      "nbconvert_exporter": "python",
      "pygments_lexer": "ipython3",
      "version": "3.7.1"
    },
    "colab": {
      "provenance": []
    }
  },
  "cells": [
    {
      "cell_type": "markdown",
      "metadata": {
        "id": "rtBrwN-Aexbo"
      },
      "source": [
        "Given a list of n lists, write a function which returns the intersection of all the n lists. Each list can have any number of elements.\n",
        "\n",
        "Example 1:\n",
        "\n",
        "```\n",
        "input = [[5, 5, 5, 8, 10], \n",
        "      [5, 5, 7, 8], \n",
        "      [5, 5, 8, 9, 11]]\n",
        "```\n",
        "\n",
        "```\n",
        "output = [5, 5, 8]\n",
        "```\n",
        "\n",
        "Example 2:\n",
        "\n",
        "```\n",
        "input = [[5, 6], \n",
        "      [5, 5, 7, 8], \n",
        "      [5, 5, 8, 9]]\n",
        "```\n",
        "\n",
        "\n",
        "```\n",
        "output = [5]\n",
        "```"
      ]
    },
    {
      "cell_type": "code",
      "source": [
        "input = [[5, 6], \n",
        "      [5, 5, 7, 8], \n",
        "      [5, 5, 8, 9]]"
      ],
      "metadata": {
        "id": "eaHQfn_Vqvak"
      },
      "execution_count": null,
      "outputs": []
    },
    {
      "cell_type": "code",
      "source": [
        "# calculate no of repetation of each element\n",
        "v=[]\n",
        "for i in range(len(input)):\n",
        "  d={}\n",
        "  k=set(input[i])\n",
        "  for j in k:\n",
        "      d[j]=input[i].count(j)\n",
        "  v.append(d)\n",
        "print(v)"
      ],
      "metadata": {
        "colab": {
          "base_uri": "https://localhost:8080/"
        },
        "id": "4SMGhnfTqMRy",
        "outputId": "6064095c-1afe-4a1f-a5cf-7ed94f4c451a"
      },
      "execution_count": null,
      "outputs": [
        {
          "output_type": "stream",
          "name": "stdout",
          "text": [
            "[{5: 1, 6: 1}, {8: 1, 5: 2, 7: 1}, {8: 1, 9: 1, 5: 2}]\n"
          ]
        }
      ]
    },
    {
      "cell_type": "code",
      "source": [
        "#find the common element in all dictionary\n",
        "t=[]\n",
        "for i in range(len(v)):\n",
        "  for j in v[i]:\n",
        "    t.append(j)\n",
        "w=set(t) \n",
        "y=[]\n",
        "for i in w:\n",
        "  if t.count(i)==3:\n",
        "      y.append(i)\n",
        "print(y)"
      ],
      "metadata": {
        "colab": {
          "base_uri": "https://localhost:8080/"
        },
        "id": "hF0PJ6rHqVTW",
        "outputId": "2f7ac5ce-a57d-468d-d685-830ad9080664"
      },
      "execution_count": null,
      "outputs": [
        {
          "output_type": "stream",
          "name": "stdout",
          "text": [
            "[5]\n"
          ]
        }
      ]
    },
    {
      "cell_type": "code",
      "source": [
        "# find the final list of intersection\n",
        "p,e,r,u=[],[],[],{}\n",
        "for i in y:\n",
        "  for j in range(len(v)):\n",
        "    p.append(v[j][i])\n",
        "  e.append(min(p))\n",
        "for i in range(len(y)):\n",
        "  for j in y:\n",
        "    if e[i]>0:\n",
        "      r.append(j) \n",
        "      e[i]=e[i]-1\n",
        "print(r)"
      ],
      "metadata": {
        "colab": {
          "base_uri": "https://localhost:8080/"
        },
        "id": "eQVRwZQLqWLQ",
        "outputId": "895f8fc7-01a0-4dce-a35d-6cdee9600564"
      },
      "execution_count": null,
      "outputs": [
        {
          "output_type": "stream",
          "name": "stdout",
          "text": [
            "[5]\n"
          ]
        }
      ]
    }
  ]
}